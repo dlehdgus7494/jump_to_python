{
  "nbformat": 4,
  "nbformat_minor": 0,
  "metadata": {
    "colab": {
      "name": "numpy_OpenCV_2",
      "private_outputs": true,
      "provenance": [],
      "authorship_tag": "ABX9TyNb/AKu9WZ/aK/XI5O0xw+h",
      "include_colab_link": true
    },
    "kernelspec": {
      "name": "python3",
      "display_name": "Python 3"
    },
    "language_info": {
      "name": "python"
    }
  },
  "cells": [
    {
      "cell_type": "markdown",
      "metadata": {
        "id": "view-in-github",
        "colab_type": "text"
      },
      "source": [
        "<a href=\"https://colab.research.google.com/github/dlehdgus7494/jump_to_python/blob/main/numpy_OpenCV_2.ipynb\" target=\"_parent\"><img src=\"https://colab.research.google.com/assets/colab-badge.svg\" alt=\"Open In Colab\"/></a>"
      ]
    },
    {
      "cell_type": "code",
      "execution_count": null,
      "metadata": {
        "id": "GdV8tRwXfNdI"
      },
      "outputs": [],
      "source": [
        "from google.colab import files\n",
        "uploaded = files.upload()"
      ]
    },
    {
      "cell_type": "code",
      "source": [
        "import cv2\n",
        "image = cv2.imread('cat.jpg.png')\n",
        "\n",
        "# 픽셀 수 및 이미지 크기 확인\n",
        "print(image.shape)\n",
        "print(image.size)\n",
        "\n",
        "# 이미지 Numpy 객체 특정 픽셀 확인\n",
        "px = image[100, 100]\n",
        "\n",
        "# B, G, R 순서로 출력됩니다.\n",
        "# (단, Gray Scale인 경우에는 B, G, R로 구분 X)\n",
        "print(px)\n",
        "\n",
        "# R 값만 출력\n",
        "print(px[2])"
      ],
      "metadata": {
        "id": "9EcRiG09fY7Z"
      },
      "execution_count": null,
      "outputs": []
    },
    {
      "cell_type": "code",
      "source": [
        "import cv2\n",
        "import matplotlib.pyplot as plt\n",
        "import time\n",
        "\n",
        "image = cv2.imread('cat.jpg.png')\n",
        "\n",
        "start_time = time.time()\n",
        "for i in range(0, 100):\n",
        "    for j in range(0, 100):\n",
        "        image[i, j] = [255, 255, 255]\n",
        "print(\"--- %s seconds ---\" % (time.time() - start_time))\n",
        "\n",
        "start_time = time.time()\n",
        "image[0:100, 0:100] = [0, 0, 0]\n",
        "print(\"--- %s seconds ---\" % (time.time() - start_time))\n",
        "\n",
        "plt.imshow(cv2.cvtColor(image, cv2.COLOR_BGR2RGB))\n",
        "plt.show()"
      ],
      "metadata": {
        "id": "52QyumrXfok_"
      },
      "execution_count": null,
      "outputs": []
    },
    {
      "cell_type": "code",
      "source": [
        "import cv2\n",
        "import matplotlib.pyplot as plt\n",
        "\n",
        "image = cv2.imread('cat.jpg.png')\n",
        "\n",
        "roi = image[100:150, 100:150]\n",
        "\n",
        "image[0:100, 0:100] = roi\n",
        "\n",
        "plt.imshow(cv2.cvtColor(image, cv2.COLOR_BGR2RGB))\n",
        "plt.show()"
      ],
      "metadata": {
        "id": "QEq-xfd1fuDb"
      },
      "execution_count": null,
      "outputs": []
    },
    {
      "cell_type": "code",
      "source": [
        "import cv2\n",
        "import matplotlib.pyplot as plt\n",
        "\n",
        "image = cv2.imread('cat.jpg.png')\n",
        "image[:, :, 2] = 0\n",
        "\n",
        "plt.imshow(cv2.cvtColor(image, cv2.COLOR_BGR2RGB))\n",
        "plt.show()"
      ],
      "metadata": {
        "id": "T62E2L8jgH0F"
      },
      "execution_count": null,
      "outputs": []
    }
  ]
}
