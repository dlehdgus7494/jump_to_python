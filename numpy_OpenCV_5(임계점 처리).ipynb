{
  "nbformat": 4,
  "nbformat_minor": 0,
  "metadata": {
    "colab": {
      "name": "numpy_OpenCV_5",
      "private_outputs": true,
      "provenance": [],
      "authorship_tag": "ABX9TyNxlz6mJ/ajj63vYsi06Qhy",
      "include_colab_link": true
    },
    "kernelspec": {
      "name": "python3",
      "display_name": "Python 3"
    },
    "language_info": {
      "name": "python"
    }
  },
  "cells": [
    {
      "cell_type": "markdown",
      "metadata": {
        "id": "view-in-github",
        "colab_type": "text"
      },
      "source": [
        "<a href=\"https://colab.research.google.com/github/dlehdgus7494/jump_to_python/blob/main/numpy_OpenCV_5.ipynb\" target=\"_parent\"><img src=\"https://colab.research.google.com/assets/colab-badge.svg\" alt=\"Open In Colab\"/></a>"
      ]
    },
    {
      "cell_type": "code",
      "execution_count": null,
      "metadata": {
        "id": "5j39vjbVbqbj"
      },
      "outputs": [],
      "source": [
        "from google.colab import files\n",
        "uploaded = files.upload()"
      ]
    },
    {
      "cell_type": "code",
      "source": [
        "import cv2\n",
        "import matplotlib.pyplot as plt\n",
        "\n",
        "image = cv2.imread('cat.jpg.png', cv2.IMREAD_GRAYSCALE)\n",
        "\n",
        "images = []\n",
        "ret, thres1 = cv2.threshold(image, 127, 255, cv2.THRESH_BINARY) # 임계값보다 크면 max 작으면 0\n",
        "ret, thres2 = cv2.threshold(image, 127, 255, cv2.THRESH_BINARY_INV) # 임계값보다 작으면 max, 크면 0\n",
        "ret, thres3 = cv2.threshold(image, 127, 255, cv2.THRESH_TRUNC) # 임계값보다 크면 임계, 작으면 그대로\n",
        "ret, thres4 = cv2.threshold(image, 127, 255, cv2.THRESH_TOZERO) # 임계보다 크면 그대로, 작으면 0\n",
        "ret, thres5 = cv2.threshold(image, 127, 255, cv2.THRESH_TOZERO_INV) # 임계보다 크면 0, 작으면 그대로\n",
        "images.append(thres1)\n",
        "images.append(thres2)\n",
        "images.append(thres3)\n",
        "images.append(thres4)\n",
        "images.append(thres5)\n",
        "\n",
        "for i in images:\n",
        "  plt.imshow(cv2.cvtColor(i, cv2.COLOR_GRAY2RGB))\n",
        "  plt.show()"
      ],
      "metadata": {
        "id": "uo8-GH-8cNc_"
      },
      "execution_count": null,
      "outputs": []
    },
    {
      "cell_type": "code",
      "source": [
        "import cv2\n",
        "\n",
        "image = cv2.imread('cat.jpg.png', cv2.IMREAD_GRAYSCALE)\n",
        "\n",
        "ret, thres1 = cv2.threshold(image, 127, 255, cv2.THRESH_BINARY)\n",
        "thres2 = cv2.adaptiveThreshold(image, 255, cv2.ADAPTIVE_THRESH_MEAN_C, cv2.THRESH_BINARY, 21, 3)\n",
        "\n",
        "plt.imshow(cv2.cvtColor(image, cv2.COLOR_GRAY2RGB))\n",
        "plt.show()\n",
        "\n",
        "plt.imshow(cv2.cvtColor(thres1, cv2.COLOR_GRAY2RGB))\n",
        "plt.show()\n",
        "\n",
        "plt.imshow(cv2.cvtColor(thres2, cv2.COLOR_GRAY2RGB))\n",
        "plt.show()"
      ],
      "metadata": {
        "id": "5XxWMj8bdh8T"
      },
      "execution_count": null,
      "outputs": []
    }
  ]
}
