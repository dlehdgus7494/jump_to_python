{
  "nbformat": 4,
  "nbformat_minor": 0,
  "metadata": {
    "colab": {
      "name": "numpy 기본사용법",
      "private_outputs": true,
      "provenance": [],
      "authorship_tag": "ABX9TyN6xKx9PnGNqTvrRjtksy4m",
      "include_colab_link": true
    },
    "kernelspec": {
      "name": "python3",
      "display_name": "Python 3"
    },
    "language_info": {
      "name": "python"
    },
    "accelerator": "GPU"
  },
  "cells": [
    {
      "cell_type": "markdown",
      "metadata": {
        "id": "view-in-github",
        "colab_type": "text"
      },
      "source": [
        "<a href=\"https://colab.research.google.com/github/dlehdgus7494/jump_to_python/blob/main/numpy_%EA%B8%B0%EB%B3%B8%EC%82%AC%EC%9A%A9%EB%B2%95.ipynb\" target=\"_parent\"><img src=\"https://colab.research.google.com/assets/colab-badge.svg\" alt=\"Open In Colab\"/></a>"
      ]
    },
    {
      "cell_type": "code",
      "execution_count": null,
      "metadata": {
        "id": "hF2XIJSgdf8Y"
      },
      "outputs": [],
      "source": [
        "import numpy as np\n",
        "\n",
        "list_data = [1, 2, 3]\n",
        "array =  np.array(list_data)\n",
        "\n",
        "print(array.size)\n",
        "print(array.dtype)"
      ]
    },
    {
      "cell_type": "code",
      "source": [
        "import numpy as np\n",
        "\n",
        "# 0 to 3 array\n",
        "array1 = np.arange(4)\n",
        "print(array1)\n",
        "\n",
        "array2 = np.zeros((4,4), dtype = float)\n",
        "print(array2)\n",
        "\n",
        "array3 = np.ones((3,3), dtype = str)\n",
        "print(array3)\n",
        "\n",
        "array4 = np.random.randint(0,10,(3,3))\n",
        "print(array4)\n",
        "\n",
        "array5 = np.random.normal(0,1,(3,3))\n",
        "print(array5)"
      ],
      "metadata": {
        "id": "ync_b9jQiLvp"
      },
      "execution_count": null,
      "outputs": []
    },
    {
      "cell_type": "code",
      "source": [
        "import numpy as np\n",
        "\n",
        "array1 = np.array([1,2,3])\n",
        "array2 = np.array([4,5,6])\n",
        "array3 = np.concatenate([array1,array2])\n",
        "print(array3)\n",
        "array4 = array3.reshape((2,3))\n",
        "print(array4)\n",
        "array5 = np.concatenate([array1,array2],axis=0)\n",
        "print(array5)"
      ],
      "metadata": {
        "id": "DOJtT9EJju8f"
      },
      "execution_count": null,
      "outputs": []
    },
    {
      "cell_type": "code",
      "source": [
        "import numpy as np\n",
        "\n",
        "array = np.arange(8).reshape(2,4)\n",
        "left, right = np.split(array, [2], axis=1)\n",
        "print(left.shape)\n",
        "print(right.shape)\n",
        "print(array)\n",
        "print(left)"
      ],
      "metadata": {
        "id": "dtqPXozemX02"
      },
      "execution_count": null,
      "outputs": []
    }
  ]
}