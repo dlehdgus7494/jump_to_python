{
  "nbformat": 4,
  "nbformat_minor": 0,
  "metadata": {
    "colab": {
      "name": "numpy_활용",
      "private_outputs": true,
      "provenance": [],
      "authorship_tag": "ABX9TyNgJxgjFO44BzRAJ4zLPJ0u",
      "include_colab_link": true
    },
    "kernelspec": {
      "name": "python3",
      "display_name": "Python 3"
    },
    "language_info": {
      "name": "python"
    }
  },
  "cells": [
    {
      "cell_type": "markdown",
      "metadata": {
        "id": "view-in-github",
        "colab_type": "text"
      },
      "source": [
        "<a href=\"https://colab.research.google.com/github/dlehdgus7494/jump_to_python/blob/main/numpy_%ED%99%9C%EC%9A%A9.ipynb\" target=\"_parent\"><img src=\"https://colab.research.google.com/assets/colab-badge.svg\" alt=\"Open In Colab\"/></a>"
      ]
    },
    {
      "cell_type": "code",
      "execution_count": null,
      "metadata": {
        "id": "2OUKWQPZslCR"
      },
      "outputs": [],
      "source": [
        "import numpy as np\n",
        "\n",
        "# 단일 객체 저장 및 불러오기\n",
        "array = np.arange(0,10)\n",
        "np.save('saved.numpy', array)\n",
        "\n",
        "result = np.load('saved.numpy.npy')\n",
        "print(result)\n",
        "\n",
        "#복수 객체\n",
        "array1 = np.arange(0,10)\n",
        "array2 = np.arange(10,20)\n",
        "np.savez('saved.npz', array1=array1 , array2=array2)\n",
        "\n",
        "data = np.load('saved,npz')\n",
        "result1= data['array1']\n",
        "result2 = data['array2']\n",
        "print(result1)\n",
        "print(result2)"
      ]
    },
    {
      "cell_type": "code",
      "source": [
        "import numpy as np\n",
        "\n",
        "# 오름차순\n",
        "array = np.array([5,9,10,3,1])\n",
        "array.sort()\n",
        "#내림차순\n",
        "print(array[::-1])\n",
        "\n",
        "array1 = np.array([[5,9,10,3,1],[8,3,4,2,5]])\n",
        "array1.sort(axis=0)\n",
        "print(array1)"
      ],
      "metadata": {
        "id": "sucp_AlvwZyV"
      },
      "execution_count": null,
      "outputs": []
    },
    {
      "cell_type": "code",
      "source": [
        "import numpy as np\n",
        "\n",
        "#균일한 간격으로 데이터생성\n",
        "array = np.linspace(0,10,5)\n",
        "print(array)\n",
        "\n",
        "#난수의 재연\n",
        "np.random.seed(7)\n",
        "print(np.random.randint(0,10,(2,3)))\n",
        "\n",
        "#배열 객체 복사\n",
        "array1 = np.arange(0,10)\n",
        "array2 = array1.copy()\n",
        "array2[0] = 99\n",
        "print(array1)\n",
        "\n",
        "#중복원소제거\n",
        "array3 = np.array([1,1,1,1,2,2,2,3,4,4])\n",
        "print(np.unique(array3))"
      ],
      "metadata": {
        "id": "VsR5oZ77xVU4"
      },
      "execution_count": null,
      "outputs": []
    }
  ]
}