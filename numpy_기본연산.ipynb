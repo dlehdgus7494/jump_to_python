{
  "nbformat": 4,
  "nbformat_minor": 0,
  "metadata": {
    "colab": {
      "name": "numpy_기본연산",
      "private_outputs": true,
      "provenance": [],
      "authorship_tag": "ABX9TyO7rM7JLd4Efj/Aa0Cyskac",
      "include_colab_link": true
    },
    "kernelspec": {
      "name": "python3",
      "display_name": "Python 3"
    },
    "language_info": {
      "name": "python"
    },
    "accelerator": "GPU"
  },
  "cells": [
    {
      "cell_type": "markdown",
      "metadata": {
        "id": "view-in-github",
        "colab_type": "text"
      },
      "source": [
        "<a href=\"https://colab.research.google.com/github/dlehdgus7494/jump_to_python/blob/main/numpy_%EA%B8%B0%EB%B3%B8%EC%97%B0%EC%82%B0.ipynb\" target=\"_parent\"><img src=\"https://colab.research.google.com/assets/colab-badge.svg\" alt=\"Open In Colab\"/></a>"
      ]
    },
    {
      "cell_type": "code",
      "execution_count": null,
      "metadata": {
        "id": "uE3ULQnDoBBe"
      },
      "outputs": [],
      "source": [
        "import numpy as np\n",
        "array = np.random.randint(1,10,size=4).reshape(2,2)\n",
        "print(array)\n",
        "\n",
        "result_array = array*10\n",
        "print(result_array)"
      ]
    },
    {
      "cell_type": "code",
      "source": [
        "import numpy as np\n",
        "\n",
        "array1 = np.arange(4).reshape(2,2)\n",
        "array2 = np.arange(2)\n",
        "\n",
        "array3 = array1+array2\n",
        "print(array3)"
      ],
      "metadata": {
        "id": "siGD_IqRo4DW"
      },
      "execution_count": null,
      "outputs": []
    },
    {
      "cell_type": "code",
      "source": [
        "import numpy as np\n",
        "\n",
        "array1 = np.arange(16).reshape(4,4)\n",
        "print(array1)\n",
        "\n",
        "array2 = array1 < 10\n",
        "print(array2)\n",
        "array1[array2]=100\n",
        "print(array1)"
      ],
      "metadata": {
        "id": "ZIQPfNuFqWKP"
      },
      "execution_count": null,
      "outputs": []
    },
    {
      "cell_type": "code",
      "source": [
        "import numpy as np\n",
        "\n",
        "array1 = np.arange(16).reshape(4,4)\n",
        "print(array1)\n",
        "\n",
        "print('max : ', np.max(array1))\n",
        "print('min : ', np.min(array1))\n",
        "print('total : ', np.sum(array1))\n",
        "print('mean : ', np.mean(array1))\n",
        "\n",
        "print('total : ', np.sum(array1, axis=0))"
      ],
      "metadata": {
        "id": "4HuFFlKxrj1I"
      },
      "execution_count": null,
      "outputs": []
    }
  ]
}